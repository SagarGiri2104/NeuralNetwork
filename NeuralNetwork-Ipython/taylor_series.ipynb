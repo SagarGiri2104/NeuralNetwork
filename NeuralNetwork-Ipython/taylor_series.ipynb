{
 "cells": [
  {
   "cell_type": "markdown",
   "metadata": {},
   "source": [
    "#  Taylor Series Examples\n",
    "\n",
    "This notebook demonstrates examples of the Taylor series expansion of some common functions.\n"
   ]
  },
  {
   "cell_type": "code",
   "execution_count": 2,
   "metadata": {},
   "outputs": [
    {
     "data": {
      "application/vnd.jupyter.widget-view+json": {
       "model_id": "8ac7886f892b485a8ac3a50b7f7843d6",
       "version_major": 2,
       "version_minor": 0
      },
      "text/plain": [
       "interactive(children=(IntSlider(value=5, continuous_update=False, description='order', max=50), Dropdown(descr…"
      ]
     },
     "metadata": {},
     "output_type": "display_data"
    }
   ],
   "source": [
    "from __future__ import print_function\n",
    "%matplotlib inline\n",
    "\n",
    "from ipywidgets import interact, interactive, fixed, interact_manual\n",
    "import ipywidgets as widgets\n",
    "from ipywidgets import interactive\n",
    "import matplotlib.pyplot as plt\n",
    "import numpy as np\n",
    "import sympy as sy\n",
    "from sympy.functions import sin,cos,exp\n",
    "import math\n",
    "\n",
    "#plt.style.use(\"ggplot\")\n",
    "\n",
    "\n",
    "#x = sy.Symbol('x')\n",
    "#f = cos(x)\n",
    "\n",
    "def taylor(function,x_star,n):\n",
    "    x = sy.Symbol('x')\n",
    "    i = 0\n",
    "    f_hat = 0\n",
    "    for k in range(n+1):\n",
    "        f_hat = f_hat + (function.diff(x,k).subs(x,x_star))/(math.factorial(k))*(x-x_star)**k\n",
    "    return f_hat\n",
    "\n",
    "\n",
    "def plot_activation(order,function_type):\n",
    "    x = sy.Symbol('x')\n",
    "\n",
    "    plt.figure(2,figsize=(12,6))\n",
    "    x_lims = [-10,10]\n",
    "    x1 = np.linspace(x_lims[0],x_lims[1],100)\n",
    "    y1 = []\n",
    "    \n",
    "    if function_type==\"sin\":\n",
    "        f = sin(x)\n",
    "        plt.plot(x1,np.sin(x1),label=\"Actual \"+function_type+\"(x)\",alpha=0.6,c=\"red\",linewidth=3)\n",
    "        \n",
    "    elif function_type==\"cos\":\n",
    "        f = cos(x)\n",
    "        plt.plot(x1,np.cos(x1),label=\"Actual \"+function_type+\"(x)\",alpha=0.6,c=\"red\",linewidth=3)\n",
    "        \n",
    "    elif function_type==\"exp\":\n",
    "        f = exp(x)\n",
    "        plt.plot(x1,np.exp(x1),label=\"Actual \"+function_type+\"(x)\",alpha=0.6,c=\"red\",linewidth=3)\n",
    "\n",
    "    \n",
    "    \n",
    "    # Approximate up until 10 starting from 1 and using steps of 2\n",
    "    func = taylor(f,0,order)\n",
    "    for k in x1:\n",
    "            y1.append(func.subs(x,k))\n",
    "    plt.plot(x1,y1, linestyle='dashed',alpha=0.6,linewidth=3,\n",
    "             label='order '+str(order)+\" Taylor expansion\",c=\"blue\")\n",
    "   \n",
    "        \n",
    "    plt.xlim(x_lims)\n",
    "    plt.ylim([-5,5])\n",
    "    plt.xlabel('x')\n",
    "    plt.ylabel('y')\n",
    "    plt.legend()\n",
    "    plt.grid(True)\n",
    "    plt.axvline(0,c=\"black\")\n",
    "    plt.axhline(0,c=\"black\")\n",
    "    plt.title('Taylor series approximation')\n",
    "    plt.legend(loc='upper right')\n",
    "    plt.show()\n",
    "interactive_plot = interactive(plot_activation,\n",
    "                               order=widgets.IntSlider(min=0,max=50,value=5,continuous_update=False),\n",
    "                              function_type=widgets.Dropdown(options=['sin','cos','exp'],\n",
    "    value='sin',\n",
    "    description='Function Type:',\n",
    "    disabled=False,\n",
    "))\n",
    "interactive_plot"
   ]
  }
 ],
 "metadata": {
  "hide_input": false,
  "kernelspec": {
   "display_name": "Python 3",
   "language": "python",
   "name": "python3"
  },
  "language_info": {
   "codemirror_mode": {
    "name": "ipython",
    "version": 3
   },
   "file_extension": ".py",
   "mimetype": "text/x-python",
   "name": "python",
   "nbconvert_exporter": "python",
   "pygments_lexer": "ipython3",
   "version": "3.7.4"
  },
  "varInspector": {
   "cols": {
    "lenName": 16,
    "lenType": 16,
    "lenVar": 40
   },
   "kernels_config": {
    "python": {
     "delete_cmd_postfix": "",
     "delete_cmd_prefix": "del ",
     "library": "var_list.py",
     "varRefreshCmd": "print(var_dic_list())"
    },
    "r": {
     "delete_cmd_postfix": ") ",
     "delete_cmd_prefix": "rm(",
     "library": "var_list.r",
     "varRefreshCmd": "cat(var_dic_list()) "
    }
   },
   "types_to_exclude": [
    "module",
    "function",
    "builtin_function_or_method",
    "instance",
    "_Feature"
   ],
   "window_display": false
  }
 },
 "nbformat": 4,
 "nbformat_minor": 2
}