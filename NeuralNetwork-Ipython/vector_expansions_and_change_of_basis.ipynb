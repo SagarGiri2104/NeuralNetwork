{
 "cells": [
  {
   "cell_type": "markdown",
   "metadata": {},
   "source": [
    "# Vector Expansions, Change of Basis Sets, and Reciprocal Basis Vectors\n",
    "This notebook explains how to find the expansion (presentation) of a vector in terms of a given basis set in a vector space and how to find the new representation of a given vector when the basis set is changed.\n",
    "\n"
   ]
  },
  {
   "cell_type": "markdown",
   "metadata": {},
   "source": [
    "## Vector Expansion\n",
    "Given a basis set $ \\{b_1,b_2,...,b_n\\}$ and a vector $\\chi $ which belong to the vector space $U$, we can present the vector $\\chi$ as \n",
    "$$\\large \\mathbf {\\chi}  = x_1\\textbf b_1+x_2\\textbf b_2+...+x_n\\textbf b_n = \\sum_{i=1}^{n}x_i\\textbf b_i$$\n",
    "This means that we can present vector $\\chi$ as a set of numbers\n",
    "$$\\large\n",
    "\\mathbf X_b =  \\begin{bmatrix}\n",
    "x_1  \\\\\n",
    "x_2  \\\\\n",
    "\\vdots \\\\\n",
    "x_n  \n",
    "\\end{bmatrix}\n",
    "$$\n",
    "Notes:\n",
    "* The above presentation depends on the basis vectors. In other words if we select a different basis set for the same vector space, then the presentation of vector $\\chi$ will be different.\n",
    "* $X_b$ is the representation of vector $\\chi$ using the basis set $ \\{b_1,b_2,...,b_n\\}$."
   ]
  },
  {
   "cell_type": "markdown",
   "metadata": {},
   "source": [
    "## How to find the coefficients of expansion\n",
    "\n",
    "If the basis vectors are orthogonal to each other then finding the coefficients of the expansion is very easy. For example to find $x_j$ we find the inner product of both sides of the expansion equation with $\\textbf b_j$\n",
    "\n",
    "$$\\large \\mathbf {\\chi} = \\sum_{i=1}^{n}x_i\\textbf b_i$$\n",
    "$$\\large (\\textbf b_j,\\mathbf {\\chi}) = (\\textbf b_j,\\sum_{i=1}^{n}x_i\\textbf b_i)=\\sum_{i=1}^{n}x_i(\\textbf b_j,\\textbf b_i)=x_j(\\textbf b_j,\\textbf b_j)$$\n",
    "\n",
    "However since the basis vectors are orthogonal to each other then\n",
    "$(\\textbf b_j,\\textbf b_i)=0$  if $i\\neq j $ and we conclude that:\n",
    "\n",
    "$$\\large (\\textbf b_j,\\mathbf {\\chi}) = x_j(\\textbf b_j,\\textbf b_j)\\Rightarrow x_j=\\frac {(\\textbf b_j,\\mathbf {\\chi})}{(\\textbf b_j,\\textbf b_j)}$$\n",
    "\n",
    "Notice that if in addition to being orthogonal to each other the basis vectors are unit vectors then the the above equation simplifies to:\n",
    "\n",
    "$$\\large x_j=(\\textbf b_j,\\mathbf {\\chi})$$\n"
   ]
  },
  {
   "cell_type": "markdown",
   "metadata": {},
   "source": [
    "## Reciprocal Basis Vectors\n",
    "\n",
    "If the basis vectors of a vector space are not orthogonal to each other, then the calculation of the expansion coefficients becomes more involved. In that case we can use an auxiliary set of vectors which are called reciprocal basis vectors. \n",
    "\n",
    "Given a basis set $ \\{\\textbf b_1,\\textbf b_2,...,\\textbf b_n\\}$, the reciprocal basis vectors $ \\{\\textbf r_1,\\textbf r_2,...,\\textbf r_n\\}$ are defined as:\n",
    "\n",
    "$$\\large (\\textbf r_i,\\textbf b_j)=0 \\qquad  if \\qquad i \\neq j$$\n",
    "$$\\large (\\textbf r_i,\\textbf b_j)=1 \\qquad  if \\qquad i = j$$\n",
    "\n",
    "The above definitions of the reciprocal basis vectors can be presented in matrix format as\n",
    "$$\\large \\textbf R^T\\textbf B=\\textbf I$$\n",
    "\n",
    "Where the columns of the $\\textbf R$ matrix are the reciprocal basis vectors and the columns of $\\textbf B$ are the original basis set. \n",
    "$$ \n",
    "\\textbf R =  \\begin{bmatrix}\n",
    "r_1 & r_2 & ... & r_n\n",
    "\\end{bmatrix}\n",
    "$$\n",
    "and\n",
    "$$ \n",
    "\\textbf B =  \\begin{bmatrix}\n",
    "b_1 & b_2 & ... & b_n\n",
    "\\end{bmatrix}\n",
    "$$\n",
    "\n",
    "The above equations imply that to find the reciprocal basis vectors we can invert the matrix which is formed by the original basis vectors.\n",
    "$$\\large \\textbf R^T=\\textbf B^{-1}$$ \n",
    "\n",
    "Once the reciprocal basis vectors are found, we can use them to find the expansion of vector $\\mathbf {\\chi}$ based on the original basis set $ \\{b_1,b_2,...,b_n\\}$. To find the expansion coefficient $x_j$ we start again by the original definition of the vector expansion:\n",
    "$$\\large \\mathbf {\\chi}  = x_1\\textbf b_1+x_2\\textbf b_2+...+x_n\\textbf b_n = \\sum_{i=1}^{n}x_i\\textbf b_i$$\n",
    "next we find the inner product of vector $\\textbf r_j$ with both sides of the above equation:\n",
    "$$\\large (\\textbf r_j,\\mathbf {\\chi})  = (\\textbf r_j, \\sum_{i=1}^{n}x_i\\textbf b_i)$$\n",
    "which implies:\n",
    "$$\\large (\\textbf r_j,\\mathbf {\\chi})  = \\sum_{i=1}^{n}x_i(\\textbf r_j, \\textbf b_i)$$\n",
    "By definition of reciprocal vectors:\n",
    "$$\\large (\\textbf r_j,\\textbf b_i)=0 \\qquad  if \\qquad i \\neq j$$\n",
    "$$\\large (\\textbf r_j,\\textbf b_i)=1 \\qquad  if \\qquad i = j$$\n",
    "Thus\n",
    "$$\\large x_j=(\\textbf r_j,\\mathbf {\\chi})$$\n",
    "\n"
   ]
  },
  {
   "cell_type": "markdown",
   "metadata": {},
   "source": [
    "## Change of Basis Set\n",
    "\n",
    "Given a basis set $ \\{s_1,s_2,...,s_n\\}$, we know that a vector $\\chi $ can be represented as:\n",
    "\n",
    " \n",
    "$$\\large \\mathbf {\\chi}  = x_1\\textbf s_1+x_2\\textbf s_2+...+x_n\\textbf s_n = \\sum_{i=1}^{n}x_i\\textbf s_i$$\n",
    "This means that we can present vector $\\chi$ as a set of numbers\n",
    "$$\\large\n",
    "\\mathbf X_s =  \\begin{bmatrix}\n",
    "x_1  \\\\\n",
    "x_2  \\\\\n",
    "\\vdots \\\\\n",
    "x_n  \n",
    "\\end{bmatrix}\n",
    "$$\n",
    "\n",
    "If the basis set is changed to new basis set such as  $ \\{b_1,b_2,...,b_n\\}$ then the new representation of the vector $\\chi$ will be:\n",
    "\n",
    "\n",
    "$$\\large X_b=B^{-1}_sX_s$$\n",
    "where each column $i$ of the matrix $B$ is the the representation of basis vectors $b_i$ using the basis vectors $ \\{s_1,s_2,...,s_n\\}$ \n",
    "\n",
    "\n",
    "\n"
   ]
  },
  {
   "cell_type": "code",
   "execution_count": 2,
   "metadata": {},
   "outputs": [
    {
     "data": {
      "text/html": [
       "<head><style>\n",
       "     table {border: solid;border-collapse: collapse;}\n",
       "     tr {outline: thin solid black;}\n",
       "     th {background-color:#AAFFFF;outline: thin solid black;}\n",
       "     td {background-color:#EEFFFF; outline: thin solid black;}\n",
       "     </style></head><body><b>Original vector xs</b><table><tr><td>10</td></tr><tr><td>5</td></tr></table></body>"
      ],
      "text/plain": [
       "<IPython.core.display.HTML object>"
      ]
     },
     "metadata": {},
     "output_type": "display_data"
    },
    {
     "data": {
      "text/html": [
       "<head><style>\n",
       "     table {border: solid;border-collapse: collapse;}\n",
       "     tr {outline: thin solid black;}\n",
       "     th {background-color:#AAFFFF;outline: thin solid black;}\n",
       "     td {background-color:#EEFFFF; outline: thin solid black;}\n",
       "     </style></head><body><b>Basis Vectors B</b><table><tr><td>1</td><td>-1</td></tr><tr><td>1</td><td>1</td></tr></table></body>"
      ],
      "text/plain": [
       "<IPython.core.display.HTML object>"
      ]
     },
     "metadata": {},
     "output_type": "display_data"
    },
    {
     "data": {
      "text/html": [
       "<head><style>\n",
       "     table {border: solid;border-collapse: collapse;}\n",
       "     tr {outline: thin solid black;}\n",
       "     th {background-color:#AAFFFF;outline: thin solid black;}\n",
       "     td {background-color:#EEFFFF; outline: thin solid black;}\n",
       "     </style></head><body><b>Expansion of x</b><table><tr><td>7.50</td></tr><tr><td>-2.50</td></tr></table></body>"
      ],
      "text/plain": [
       "<IPython.core.display.HTML object>"
      ]
     },
     "metadata": {},
     "output_type": "display_data"
    },
    {
     "name": "stdout",
     "output_type": "stream",
     "text": [
      "=============== Second Example =======================\n"
     ]
    },
    {
     "data": {
      "text/html": [
       "<head><style>\n",
       "     table {border: solid;border-collapse: collapse;}\n",
       "     tr {outline: thin solid black;}\n",
       "     th {background-color:#AAFFFF;outline: thin solid black;}\n",
       "     td {background-color:#EEFFFF; outline: thin solid black;}\n",
       "     </style></head><body><b>Original vector xs</b><table><tr><td>6</td></tr><tr><td>9</td></tr><tr><td>9</td></tr></table></body>"
      ],
      "text/plain": [
       "<IPython.core.display.HTML object>"
      ]
     },
     "metadata": {},
     "output_type": "display_data"
    },
    {
     "data": {
      "text/html": [
       "<head><style>\n",
       "     table {border: solid;border-collapse: collapse;}\n",
       "     tr {outline: thin solid black;}\n",
       "     th {background-color:#AAFFFF;outline: thin solid black;}\n",
       "     td {background-color:#EEFFFF; outline: thin solid black;}\n",
       "     </style></head><body><b>Basis Vectors B</b><table><tr><td>1</td><td>1</td><td>1</td></tr><tr><td>1</td><td>2</td><td>4</td></tr><tr><td>1</td><td>3</td><td>2</td></tr></table></body>"
      ],
      "text/plain": [
       "<IPython.core.display.HTML object>"
      ]
     },
     "metadata": {},
     "output_type": "display_data"
    },
    {
     "data": {
      "text/html": [
       "<head><style>\n",
       "     table {border: solid;border-collapse: collapse;}\n",
       "     tr {outline: thin solid black;}\n",
       "     th {background-color:#AAFFFF;outline: thin solid black;}\n",
       "     td {background-color:#EEFFFF; outline: thin solid black;}\n",
       "     </style></head><body><b>Expansion of x</b><table><tr><td>4.20</td></tr><tr><td>1.20</td></tr><tr><td>0.60</td></tr></table></body>"
      ],
      "text/plain": [
       "<IPython.core.display.HTML object>"
      ]
     },
     "metadata": {},
     "output_type": "display_data"
    }
   ],
   "source": [
    "import numpy as np\n",
    "import ipython_utilities as iu\n",
    "def vector_expansion_by_reciprocal_vectors(B,xs):\n",
    "    # given n basis vectors as a square matrix B, and a general vector xs,\n",
    "    # this function uses the reciprocal vectors to find and return\n",
    "    # the exapnsion of vector x based on the given basis set B.\n",
    "    # Each column of the B matrix represents a bsis vector\n",
    "    # Note that the vector xs is given as the expansion of the general vector\n",
    "    # in the standard basis set (not the expansion in the B basis set).\n",
    "    \n",
    "    # Farhad Kamangar Feb. 2020\n",
    "    \n",
    "    r=np.linalg.inv(B)\n",
    "    x=np.dot(r,xs)\n",
    "    return np.array(x)\n",
    "\n",
    "B = np.transpose(np.array([[1,1], [-1,1] ]))\n",
    "xs=(np.array([10,5]))\n",
    "xs=np.reshape(xs,(len(xs),1))\n",
    "x=vector_expansion_by_reciprocal_vectors(B,xs)\n",
    "iu.display_as_html_table(xs, title='Original vector xs', first_row=\"\", first_column=\"\", cell_format=\"0.2f\", div_id='');\n",
    "iu.display_as_html_table(B, title='Basis Vectors B', first_row=\"\", first_column=\"\", cell_format=\"0.2f\", div_id='');\n",
    "iu.display_as_html_table(x, title='Expansion of x', first_row=\"\", first_column=\"\", cell_format=\"0.2f\", div_id='');\n",
    "\n",
    "B = np.transpose(np.array([[1,1,1], [1,2,3], [1,4,2] ]))\n",
    "xs=(np.array([6,9,9]))\n",
    "xs=np.reshape(xs,(3,1))\n",
    "x=vector_expansion_by_reciprocal_vectors(B,xs)\n",
    "print(\"=============== Second Example =======================\")\n",
    "\n",
    "iu.display_as_html_table(xs, title='Original vector xs', first_row=\"\", first_column=\"\", cell_format=\"0.2f\", div_id='');\n",
    "iu.display_as_html_table(B, title='Basis Vectors B', first_row=\"\", first_column=\"\", cell_format=\"0.2f\", div_id='');\n",
    "iu.display_as_html_table(x, title='Expansion of x', first_row=\"\", first_column=\"\", cell_format=\"0.2f\", div_id='');"
   ]
  }
 ],
 "metadata": {
  "hide_input": false,
  "kernelspec": {
   "display_name": "Python 3",
   "language": "python",
   "name": "python3"
  },
  "language_info": {
   "codemirror_mode": {
    "name": "ipython",
    "version": 3
   },
   "file_extension": ".py",
   "mimetype": "text/x-python",
   "name": "python",
   "nbconvert_exporter": "python",
   "pygments_lexer": "ipython3",
   "version": "3.7.3"
  },
  "varInspector": {
   "cols": {
    "lenName": 16,
    "lenType": 16,
    "lenVar": 40
   },
   "kernels_config": {
    "python": {
     "delete_cmd_postfix": "",
     "delete_cmd_prefix": "del ",
     "library": "var_list.py",
     "varRefreshCmd": "print(var_dic_list())"
    },
    "r": {
     "delete_cmd_postfix": ") ",
     "delete_cmd_prefix": "rm(",
     "library": "var_list.r",
     "varRefreshCmd": "cat(var_dic_list()) "
    }
   },
   "types_to_exclude": [
    "module",
    "function",
    "builtin_function_or_method",
    "instance",
    "_Feature"
   ],
   "window_display": false
  }
 },
 "nbformat": 4,
 "nbformat_minor": 2
}