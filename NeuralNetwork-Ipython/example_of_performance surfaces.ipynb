{
 "cells": [
  {
   "cell_type": "markdown",
   "metadata": {},
   "source": [
    "# Examples of Simple Performance Surfaces\n",
    "\n",
    "This notebook shows a few examples of simple 2-variable perfomance surfaces.\n"
   ]
  },
  {
   "cell_type": "code",
   "execution_count": 1,
   "metadata": {},
   "outputs": [
    {
     "data": {
      "text/html": [
       "<script>\n",
       "code_show=true; \n",
       "function code_toggle() {\n",
       " if (code_show){\n",
       " $('div.input').hide();\n",
       " } else {\n",
       " $('div.input').show();\n",
       " }\n",
       " code_show = !code_show\n",
       "} \n",
       "$( document ).ready(code_toggle);\n",
       "</script>\n",
       "To toggle on/off the raw code, click <a href=\"javascript:code_toggle()\">here</a>."
      ],
      "text/plain": [
       "<IPython.core.display.HTML object>"
      ]
     },
     "execution_count": 1,
     "metadata": {},
     "output_type": "execute_result"
    }
   ],
   "source": [
    "from IPython.display import HTML\n",
    "HTML('''<script>\n",
    "code_show=true; \n",
    "function code_toggle() {\n",
    " if (code_show){\n",
    " $('div.input').hide();\n",
    " } else {\n",
    " $('div.input').show();\n",
    " }\n",
    " code_show = !code_show\n",
    "} \n",
    "$( document ).ready(code_toggle);\n",
    "</script>\n",
    "To toggle on/off the raw code, click <a href=\"javascript:code_toggle()\">here</a>.''')"
   ]
  },
  {
   "cell_type": "markdown",
   "metadata": {},
   "source": [
    "<h1 align=\"center\" style='background :yellow'>Surface Equation</h1>\n",
    "$$\\Huge F(X) = x_1^2 + 2x_2^2$$</span>"
   ]
  },
  {
   "cell_type": "code",
   "execution_count": 2,
   "metadata": {},
   "outputs": [
    {
     "data": {
      "application/vnd.jupyter.widget-view+json": {
       "model_id": "c737af8614b94ad08ff31c00dd1faa4f",
       "version_major": 2,
       "version_minor": 0
      },
      "text/plain": [
       "VBox(children=(Figure(camera=PerspectiveCamera(fov=46.0, position=(0.12325683343243866, -1.992389396183491, 0.…"
      ]
     },
     "metadata": {},
     "output_type": "display_data"
    }
   ],
   "source": [
    "import numpy as np\n",
    "import ipyvolume as ipv\n",
    "from matplotlib import cm\n",
    "colormap = cm.coolwarm\n",
    "z_lim=6\n",
    "a = np.arange(-2, 2,.02)\n",
    "X1, X2 = np.meshgrid(a, a)\n",
    "Z = X1**2+2*X2**2\n",
    "Z[Z>=z_lim]=z_lim\n",
    "znorm = Z - Z.min()\n",
    "znorm /= znorm.ptp()\n",
    "v=np.array([X1,X2,Z])\n",
    "color = colormap(znorm)\n",
    "ipv.figure(width=800, height=600)\n",
    "# ipv.gcf()\n",
    "# ipv.plot_surface(X1, X2, Z, color=\"copper\")\n",
    "ipv.plot_surface(X1, X2, Z, color=color[...,:3])\n",
    "x = np.array([0.0])\n",
    "y = np.array([0.0])\n",
    "z = np.array([0.0])\n",
    "ipv.scatter(x, y, z, marker='sphere', size=5)\n",
    "# ipv.plot_wireframe(X1, X2, Z, color=\"orange\")\n",
    "# ipv.zlim(0,4)\n",
    "ipv.xlabel(\"x1\")\n",
    "ipv.ylabel(\"x2\")\n",
    "ipv.zlabel(\"F(X)\")\n",
    "ipv.view(45, -85, distance=2)\n",
    "ipv.show()\n"
   ]
  },
  {
   "cell_type": "code",
   "execution_count": 3,
   "metadata": {},
   "outputs": [
    {
     "data": {
      "text/html": [
       "To toggle on/off the raw code, click <a href=\"javascript:code_toggle()\">here</a>."
      ],
      "text/plain": [
       "<IPython.core.display.HTML object>"
      ]
     },
     "execution_count": 3,
     "metadata": {},
     "output_type": "execute_result"
    }
   ],
   "source": [
    "HTML('''To toggle on/off the raw code, click <a href=\"javascript:code_toggle()\">here</a>.''')"
   ]
  },
  {
   "cell_type": "markdown",
   "metadata": {},
   "source": [
    "<h1 align=\"center\" style='background :yellow'>Surface Equation</h1>\n",
    "$$\\Huge F(X) = x_1^2$$"
   ]
  },
  {
   "cell_type": "code",
   "execution_count": 4,
   "metadata": {},
   "outputs": [
    {
     "data": {
      "application/vnd.jupyter.widget-view+json": {
       "model_id": "04fdef75354545e4aedf5a22ae628101",
       "version_major": 2,
       "version_minor": 0
      },
      "text/plain": [
       "VBox(children=(Figure(camera=PerspectiveCamera(fov=46.0, position=(0.12325683343243866, -1.992389396183491, 0.…"
      ]
     },
     "metadata": {},
     "output_type": "display_data"
    }
   ],
   "source": [
    "colormap = cm.coolwarm\n",
    "z_lim=8\n",
    "a = np.arange(-2, 2,.02)\n",
    "X1, X2 = np.meshgrid(a, a)\n",
    "Z = (X1**2)\n",
    "Z[Z>=z_lim]=z_lim\n",
    "znorm = Z - Z.min()\n",
    "znorm /= znorm.ptp()\n",
    "v=np.array([X1,X2,Z])\n",
    "color = colormap(znorm)\n",
    "ipv.figure(width=800, height=600)\n",
    "ipv.plot_surface(X1, X2, Z, color=color[...,:3])\n",
    "x = np.array([0.0])\n",
    "y = np.array([0.0])\n",
    "z = np.array([0.0])\n",
    "ipv.scatter(x, y, z, marker='sphere', size=5)\n",
    "ipv.xlabel(\"x1\")\n",
    "ipv.ylabel(\"x2\")\n",
    "ipv.zlabel(\"F(X)\")\n",
    "ipv.view(45, -85, distance=2)\n",
    "ipv.zlim(0,4)\n",
    "ipv.show()"
   ]
  },
  {
   "cell_type": "code",
   "execution_count": 5,
   "metadata": {},
   "outputs": [
    {
     "data": {
      "text/html": [
       "To toggle on/off the raw code, click <a href=\"javascript:code_toggle()\">here</a>."
      ],
      "text/plain": [
       "<IPython.core.display.HTML object>"
      ]
     },
     "execution_count": 5,
     "metadata": {},
     "output_type": "execute_result"
    }
   ],
   "source": [
    "HTML('''To toggle on/off the raw code, click <a href=\"javascript:code_toggle()\">here</a>.''')"
   ]
  },
  {
   "cell_type": "markdown",
   "metadata": {},
   "source": [
    "<h1 align=\"center\" style='background :yellow'>Surface Equation</h1>\n",
    "\n",
    "$$\\Huge F(X) = {({x_2} - {x_1})^4} + 30{x_1}{x_2} - {x_1} + {x_2} + 3$$"
   ]
  },
  {
   "cell_type": "code",
   "execution_count": 6,
   "metadata": {},
   "outputs": [
    {
     "data": {
      "application/vnd.jupyter.widget-view+json": {
       "model_id": "5000282bca7d40c19cb368265fd9840d",
       "version_major": 2,
       "version_minor": 0
      },
      "text/plain": [
       "VBox(children=(Figure(camera=PerspectiveCamera(fov=46.0, position=(-0.08715574274765818, -1.7320508075688772, …"
      ]
     },
     "metadata": {},
     "output_type": "display_data"
    }
   ],
   "source": [
    "colormap = cm.coolwarm\n",
    "a = np.arange(-2, 2,.02)\n",
    "z_lim=12\n",
    "X1, X2 = np.meshgrid(a, a)\n",
    "Z = (X2-X1)**4+30*X1*X2-X1+X2+3\n",
    "Z[Z>=z_lim]=z_lim\n",
    "znorm = Z - Z.min()\n",
    "znorm /= znorm.ptp()\n",
    "v=np.array([X1,X2,Z])\n",
    "color = colormap(znorm)\n",
    "ipv.figure(width=800, height=600)\n",
    "# ipv.gcf()\n",
    "ipv.plot_surface(X1, X2, Z, color=color[...,:3])\n",
    "ipv.xlabel(\"x1\")\n",
    "ipv.ylabel(\"x2\")\n",
    "ipv.zlabel(\"F(X)\")\n",
    "ipv.view(azimuth=-5, elevation=-60, distance=2.0)\n",
    "ipv.show()"
   ]
  },
  {
   "cell_type": "code",
   "execution_count": 7,
   "metadata": {},
   "outputs": [
    {
     "data": {
      "text/html": [
       "To toggle on/off the raw code, click <a href=\"javascript:code_toggle()\">here</a>."
      ],
      "text/plain": [
       "<IPython.core.display.HTML object>"
      ]
     },
     "execution_count": 7,
     "metadata": {},
     "output_type": "execute_result"
    }
   ],
   "source": [
    "HTML('''To toggle on/off the raw code, click <a href=\"javascript:code_toggle()\">here</a>.''')"
   ]
  },
  {
   "cell_type": "markdown",
   "metadata": {},
   "source": [
    "<h1 align=\"center\" style='background :yellow'>Surface Equation</h1>\n",
    "\n",
    "$$\\Huge F(X) = ({x_1}^2 - 1.5{x_1}{x_2} + {x_2}^2){x_1}^2$$"
   ]
  },
  {
   "cell_type": "code",
   "execution_count": 8,
   "metadata": {},
   "outputs": [
    {
     "data": {
      "application/vnd.jupyter.widget-view+json": {
       "model_id": "4912b379b6004715ad4553023fb8c4a6",
       "version_major": 2,
       "version_minor": 0
      },
      "text/plain": [
       "VBox(children=(Figure(camera=PerspectiveCamera(fov=46.0, position=(0.12325683343243866, -1.992389396183491, 0.…"
      ]
     },
     "metadata": {},
     "output_type": "display_data"
    }
   ],
   "source": [
    "colormap = cm.coolwarm\n",
    "z_lim=8\n",
    "a = np.arange(-2, 2,.02)\n",
    "X1, X2 = np.meshgrid(a, a)\n",
    "Z = (X1**2-1.5*X1*X2+2*X2**2)*(X1**2)\n",
    "Z[Z>=z_lim]=z_lim\n",
    "znorm = Z - Z.min()\n",
    "znorm /= znorm.ptp()\n",
    "v=np.array([X1,X2,Z])\n",
    "color = colormap(znorm)\n",
    "ipv.figure(width=800, height=600)\n",
    "ipv.plot_surface(X1, X2, Z, color=color[...,:3])\n",
    "ipv.xlabel(\"x1\")\n",
    "ipv.ylabel(\"x2\")\n",
    "ipv.zlabel(\"F(X)\")\n",
    "ipv.view(45, -85, distance=2)\n",
    "ipv.zlim(0,8)\n",
    "ipv.show()"
   ]
  },
  {
   "cell_type": "markdown",
   "metadata": {},
   "source": [
    "<h1 align=\"center\" style='background :yellow'>Surface Equation</h1>\n",
    "\n",
    "$$\\Huge F(X) = 0.25{x_1}^2 - 1.5{x_1}{x_2} - 0.25{x_2}^2$$"
   ]
  },
  {
   "cell_type": "code",
   "execution_count": 9,
   "metadata": {},
   "outputs": [
    {
     "data": {
      "application/vnd.jupyter.widget-view+json": {
       "model_id": "5b8eed7d8b784189a24b7e9a5d2fdac7",
       "version_major": 2,
       "version_minor": 0
      },
      "text/plain": [
       "VBox(children=(Figure(camera=PerspectiveCamera(fov=46.0, position=(0.12325683343243866, -1.992389396183491, 0.…"
      ]
     },
     "metadata": {},
     "output_type": "display_data"
    }
   ],
   "source": [
    "colormap = cm.coolwarm\n",
    "z_lim=8\n",
    "a = np.arange(-2, 2,.02)\n",
    "X1, X2 = np.meshgrid(a, a)\n",
    "Z = -0.25*X1**2-1.5*X1*X2-0.25*X2**2\n",
    "Z[Z>=z_lim]=z_lim\n",
    "znorm = Z - Z.min()\n",
    "znorm /= znorm.ptp()\n",
    "v=np.array([X1,X2,Z])\n",
    "color = colormap(znorm)\n",
    "ipv.figure(width=800, height=600)\n",
    "ipv.plot_surface(X1, X2, Z, color=color[...,:3])\n",
    "ipv.xlabel(\"x1\")\n",
    "ipv.ylabel(\"x2\")\n",
    "ipv.zlabel(\"F(X)\")\n",
    "ipv.view(45, -85, distance=2)\n",
    "ipv.zlim(-8,4)\n",
    "ipv.show()"
   ]
  }
 ],
 "metadata": {
  "hide_input": true,
  "kernelspec": {
   "display_name": "Python 3",
   "language": "python",
   "name": "python3"
  },
  "language_info": {
   "codemirror_mode": {
    "name": "ipython",
    "version": 3
   },
   "file_extension": ".py",
   "mimetype": "text/x-python",
   "name": "python",
   "nbconvert_exporter": "python",
   "pygments_lexer": "ipython3",
   "version": "3.7.4"
  }
 },
 "nbformat": 4,
 "nbformat_minor": 2
}